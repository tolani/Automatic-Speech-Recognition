{
 "cells": [
  {
   "cell_type": "code",
   "execution_count": 85,
   "metadata": {},
   "outputs": [],
   "source": [
    "# importing packages\n",
    "import numpy as np\n",
    "import pandas as pd\n",
    "from sklearn.externals import joblib\n",
    "import os\n",
    "\n",
    "from sklearn.preprocessing import LabelEncoder\n",
    "\n",
    "from sklearn.mixture import GaussianMixture"
   ]
  },
  {
   "cell_type": "code",
   "execution_count": 86,
   "metadata": {},
   "outputs": [],
   "source": [
    "# reading train data\n",
    "\n",
    "df_mfcc = pd.read_hdf(\"./features_for_PER/timit_test_delta_0.hdf\")\n",
    "\n",
    "df_mfcc_delta = pd.read_hdf(\"./features_for_PER/timit_test_delta_1.hdf\")\n",
    "\n",
    "df_mfcc_delta_delta = pd.read_hdf(\"./features_for_PER/timit_test_delta_2.hdf\")\n"
   ]
  },
  {
   "cell_type": "code",
   "execution_count": 87,
   "metadata": {},
   "outputs": [
    {
     "data": {
      "text/plain": [
       "(451660, 3)"
      ]
     },
     "execution_count": 87,
     "metadata": {},
     "output_type": "execute_result"
    }
   ],
   "source": [
    "df_mfcc.shape"
   ]
  },
  {
   "cell_type": "code",
   "execution_count": 88,
   "metadata": {},
   "outputs": [
    {
     "data": {
      "text/html": [
       "<div>\n",
       "<style scoped>\n",
       "    .dataframe tbody tr th:only-of-type {\n",
       "        vertical-align: middle;\n",
       "    }\n",
       "\n",
       "    .dataframe tbody tr th {\n",
       "        vertical-align: top;\n",
       "    }\n",
       "\n",
       "    .dataframe thead th {\n",
       "        text-align: right;\n",
       "    }\n",
       "</style>\n",
       "<table border=\"1\" class=\"dataframe\">\n",
       "  <thead>\n",
       "    <tr style=\"text-align: right;\">\n",
       "      <th></th>\n",
       "      <th>features</th>\n",
       "      <th>labels</th>\n",
       "      <th>id</th>\n",
       "    </tr>\n",
       "  </thead>\n",
       "  <tbody>\n",
       "    <tr>\n",
       "      <th>0</th>\n",
       "      <td>[6.716903838289591, -28.793968479583107, -7.23...</td>\n",
       "      <td>sil</td>\n",
       "      <td>0</td>\n",
       "    </tr>\n",
       "    <tr>\n",
       "      <th>1</th>\n",
       "      <td>[6.7106245074212545, -29.100147784801266, -1.4...</td>\n",
       "      <td>sil</td>\n",
       "      <td>0</td>\n",
       "    </tr>\n",
       "    <tr>\n",
       "      <th>2</th>\n",
       "      <td>[6.659551032560782, -29.16215067859266, -1.186...</td>\n",
       "      <td>sil</td>\n",
       "      <td>0</td>\n",
       "    </tr>\n",
       "    <tr>\n",
       "      <th>3</th>\n",
       "      <td>[6.742723596127283, -33.7184742721562, -7.1541...</td>\n",
       "      <td>sil</td>\n",
       "      <td>0</td>\n",
       "    </tr>\n",
       "    <tr>\n",
       "      <th>4</th>\n",
       "      <td>[6.77944474331018, -32.778861447673385, -5.475...</td>\n",
       "      <td>sil</td>\n",
       "      <td>0</td>\n",
       "    </tr>\n",
       "  </tbody>\n",
       "</table>\n",
       "</div>"
      ],
      "text/plain": [
       "                                            features labels  id\n",
       "0  [6.716903838289591, -28.793968479583107, -7.23...    sil   0\n",
       "1  [6.7106245074212545, -29.100147784801266, -1.4...    sil   0\n",
       "2  [6.659551032560782, -29.16215067859266, -1.186...    sil   0\n",
       "3  [6.742723596127283, -33.7184742721562, -7.1541...    sil   0\n",
       "4  [6.77944474331018, -32.778861447673385, -5.475...    sil   0"
      ]
     },
     "execution_count": 88,
     "metadata": {},
     "output_type": "execute_result"
    }
   ],
   "source": [
    "df_mfcc.head()"
   ]
  },
  {
   "cell_type": "code",
   "execution_count": 89,
   "metadata": {},
   "outputs": [
    {
     "data": {
      "text/plain": [
       "1680"
      ]
     },
     "execution_count": 89,
     "metadata": {},
     "output_type": "execute_result"
    }
   ],
   "source": [
    "df_mfcc['id'].nunique()  # no of sentences"
   ]
  },
  {
   "cell_type": "code",
   "execution_count": 90,
   "metadata": {},
   "outputs": [
    {
     "data": {
      "text/plain": [
       "13"
      ]
     },
     "execution_count": 90,
     "metadata": {},
     "output_type": "execute_result"
    }
   ],
   "source": [
    "len(df_mfcc['features'][0])"
   ]
  },
  {
   "cell_type": "code",
   "execution_count": 91,
   "metadata": {},
   "outputs": [
    {
     "data": {
      "text/html": [
       "<div>\n",
       "<style scoped>\n",
       "    .dataframe tbody tr th:only-of-type {\n",
       "        vertical-align: middle;\n",
       "    }\n",
       "\n",
       "    .dataframe tbody tr th {\n",
       "        vertical-align: top;\n",
       "    }\n",
       "\n",
       "    .dataframe thead th {\n",
       "        text-align: right;\n",
       "    }\n",
       "</style>\n",
       "<table border=\"1\" class=\"dataframe\">\n",
       "  <thead>\n",
       "    <tr style=\"text-align: right;\">\n",
       "      <th></th>\n",
       "      <th>features</th>\n",
       "      <th>labels</th>\n",
       "      <th>id</th>\n",
       "    </tr>\n",
       "  </thead>\n",
       "  <tbody>\n",
       "    <tr>\n",
       "      <th>0</th>\n",
       "      <td>[6.716903838289591, -28.793968479583107, -7.23...</td>\n",
       "      <td>sil</td>\n",
       "      <td>0</td>\n",
       "    </tr>\n",
       "    <tr>\n",
       "      <th>1</th>\n",
       "      <td>[6.7106245074212545, -29.100147784801266, -1.4...</td>\n",
       "      <td>sil</td>\n",
       "      <td>0</td>\n",
       "    </tr>\n",
       "    <tr>\n",
       "      <th>2</th>\n",
       "      <td>[6.659551032560782, -29.16215067859266, -1.186...</td>\n",
       "      <td>sil</td>\n",
       "      <td>0</td>\n",
       "    </tr>\n",
       "    <tr>\n",
       "      <th>3</th>\n",
       "      <td>[6.742723596127283, -33.7184742721562, -7.1541...</td>\n",
       "      <td>sil</td>\n",
       "      <td>0</td>\n",
       "    </tr>\n",
       "    <tr>\n",
       "      <th>4</th>\n",
       "      <td>[6.77944474331018, -32.778861447673385, -5.475...</td>\n",
       "      <td>sil</td>\n",
       "      <td>0</td>\n",
       "    </tr>\n",
       "  </tbody>\n",
       "</table>\n",
       "</div>"
      ],
      "text/plain": [
       "                                            features labels  id\n",
       "0  [6.716903838289591, -28.793968479583107, -7.23...    sil   0\n",
       "1  [6.7106245074212545, -29.100147784801266, -1.4...    sil   0\n",
       "2  [6.659551032560782, -29.16215067859266, -1.186...    sil   0\n",
       "3  [6.742723596127283, -33.7184742721562, -7.1541...    sil   0\n",
       "4  [6.77944474331018, -32.778861447673385, -5.475...    sil   0"
      ]
     },
     "execution_count": 91,
     "metadata": {},
     "output_type": "execute_result"
    }
   ],
   "source": [
    "#df_mfcc = df_mfcc[ df_mfcc['id'] == 0 ]\n",
    "df_mfcc.head()"
   ]
  },
  {
   "cell_type": "code",
   "execution_count": 92,
   "metadata": {},
   "outputs": [],
   "source": [
    "def preprocess(df):\n",
    "    \n",
    "    # taking out features and lable column\n",
    "    X_test = df['features'].tolist()          # because gmm needs sequence as an argument\n",
    "    y_test = df['labels'].tolist()\n",
    "    \n",
    "    # label encoding for phonemes \n",
    "    lb = LabelEncoder()\n",
    "    df['labels_encoded'] = lb.fit_transform(df['labels'])\n",
    "    \n",
    "    # dropping a column of labels (phonemes)\n",
    "    df = df.drop(columns=['labels'])\n",
    "    \n",
    "    return df"
   ]
  },
  {
   "cell_type": "code",
   "execution_count": 93,
   "metadata": {},
   "outputs": [],
   "source": [
    "def remove_coef(df,var):\n",
    "    \n",
    "    ''' this function removes corresponding coefficients on preprocessed data frame'''\n",
    "    \n",
    "    # first converting features columnt to a list and then to a numpy array\n",
    "    features=np.array(df[\"features\"].tolist())\n",
    "    \n",
    "    if(var == 0):\n",
    "        features=np.delete(features, [0], axis=1)\n",
    "    elif(var == 1):\n",
    "        features=np.delete(features, [0,14], axis=1)\n",
    "    else:\n",
    "        features=np.delete(features, [0,14,27], axis=1)\n",
    "\n",
    "    # putting back the column of features after removing co eff\n",
    "    df['features'] = features.tolist()\n",
    "    \n",
    "    return df"
   ]
  },
  {
   "cell_type": "code",
   "execution_count": 94,
   "metadata": {},
   "outputs": [],
   "source": [
    "# df with energy coefficients\n",
    "df_mfcc_pre = preprocess(df_mfcc)\n",
    "df_mfcc_delta_pre = preprocess(df_mfcc_delta)\n",
    "df_mfcc_delta_delta_pre = preprocess(df_mfcc_delta_delta)\n",
    "\n",
    "df1 = df_mfcc_pre.copy()\n",
    "df2 = df_mfcc_delta_pre.copy()\n",
    "df3 = df_mfcc_delta_delta_pre.copy()\n",
    "\n",
    "#print(len(df_mfcc_pre['features'][0]))\n",
    "#print(len(df_mfcc_delta_pre['features'][0]))\n",
    "\n",
    "# df without energy coefficients : removing \n",
    "\n",
    "df_mfcc_pre_wo = remove_coef(df1 , 0)     # 0 means simple mfcc\n",
    "df_mfcc_delta_pre_wo = remove_coef(df2 , 1)\n",
    "df_mfcc_delta_delta_pre_wo = remove_coef(df3 , 2)\n",
    "\n",
    "#print(len(df_mfcc_pre['features'][0]))\n",
    "#print(len(df_mfcc_delta_pre['features'][0]))\n"
   ]
  },
  {
   "cell_type": "code",
   "execution_count": 126,
   "metadata": {},
   "outputs": [],
   "source": [
    "# running for all sentences\n",
    "\n",
    "for i in range(0,1680):\n",
    "    df_temp = df_mfcc_pre_wo[ df_mfcc_pre_wo['id'] == i]\n",
    "    df_temp = df_temp['labels_encoded']\n",
    "\n",
    "    listt = df_temp.values.tolist()\n",
    "    #print(l)\n",
    "    #l = df_temp.tolist()\n",
    "    #print(l)\n",
    "    #np.savetxt(r'hello2.txt' , delimiter=' ' , X = np.asarray(l))\n",
    "\n",
    "    #df_temp.to_csv(r'hello.txt',index = None, header = None, sep = ' ', mode = 'a')\n",
    "    \n",
    "    f = open('./files_for_PER/ground_truth_labels_mfcc_wo.txt' , 'a')\n",
    "    \n",
    "    for val in listt:\n",
    "        f.write(str(val))\n",
    "        f.write(' ')\n",
    "        \n",
    "    f.write('\\n')\n",
    "    f.close()"
   ]
  },
  {
   "cell_type": "code",
   "execution_count": 127,
   "metadata": {},
   "outputs": [],
   "source": [
    "#len(df_mfcc_pre['features'][0])"
   ]
  },
  {
   "cell_type": "code",
   "execution_count": 128,
   "metadata": {},
   "outputs": [
    {
     "data": {
      "text/plain": [
       "array([ 0,  1,  2,  3,  4,  5,  6,  7,  8,  9, 10, 11, 12, 13, 14, 15, 16,\n",
       "       17, 18, 19, 20, 21, 22, 23, 24, 25, 26, 27, 28, 29, 30, 31, 32, 33,\n",
       "       34, 35, 36, 37, 38, 39], dtype=int64)"
      ]
     },
     "execution_count": 128,
     "metadata": {},
     "output_type": "execute_result"
    }
   ],
   "source": [
    "# taking out list of labels into unique labels \n",
    "unique_labels = np.unique(df_mfcc_pre['labels_encoded'])\n",
    "unique_labels"
   ]
  },
  {
   "cell_type": "code",
   "execution_count": 129,
   "metadata": {},
   "outputs": [],
   "source": [
    "from sklearn.externals import joblib\n",
    "from sklearn.metrics import accuracy_score"
   ]
  },
  {
   "cell_type": "code",
   "execution_count": 130,
   "metadata": {},
   "outputs": [
    {
     "name": "stdout",
     "output_type": "stream",
     "text": [
      "testing started for label 0\n",
      "testing started for label 1\n",
      "testing started for label 2\n",
      "testing started for label 3\n",
      "testing started for label 4\n",
      "testing started for label 5\n",
      "testing started for label 6\n",
      "testing started for label 7\n",
      "testing started for label 8\n",
      "testing started for label 9\n",
      "testing started for label 10\n",
      "testing started for label 11\n",
      "testing started for label 12\n",
      "testing started for label 13\n",
      "testing started for label 14\n",
      "testing started for label 15\n",
      "testing started for label 16\n",
      "testing started for label 17\n",
      "testing started for label 18\n",
      "testing started for label 19\n",
      "testing started for label 20\n",
      "testing started for label 21\n",
      "testing started for label 22\n",
      "testing started for label 23\n",
      "testing started for label 24\n",
      "testing started for label 25\n",
      "testing started for label 26\n",
      "testing started for label 27\n",
      "testing started for label 28\n",
      "testing started for label 29\n",
      "testing started for label 30\n",
      "testing started for label 31\n",
      "testing started for label 32\n",
      "testing started for label 33\n",
      "testing started for label 34\n",
      "testing started for label 35\n",
      "testing started for label 36\n",
      "testing started for label 37\n",
      "testing started for label 38\n",
      "testing started for label 39\n"
     ]
    }
   ],
   "source": [
    "df_test = df_mfcc_pre_wo\n",
    "\n",
    "X_test = df_test['features'].tolist()\n",
    "y_test = df_test['labels_encoded'].tolist()\n",
    "    \n",
    "list_of_lists = []     # this ll contain 40 rows of length X_test , predicted prob for each phoneme / model trained \n",
    "\n",
    "# for each phoneme load the corresponding model and predict\n",
    "for i in unique_labels:\n",
    "    print(\"testing started for label\" , i)\n",
    "    \n",
    "    loaded_model = joblib.load(\"./models/mfcc_without_64/\" + str(i) + \".pkl\")\n",
    "    \n",
    "    prob_list = loaded_model.score_samples(X_test)  # now for X_test we are predicting prob for all instances of X_test using ith model\n",
    "        #print(prob_list)                             # do this for 40 models and apply MAP rule to get the classfn result at frame level\n",
    "\n",
    "    list_of_lists.append(prob_list)\n",
    "    \n",
    "ll = np.asarray(list_of_lists)\n",
    "    \n",
    "max_list = ll.argmax(axis = 0)  # we need maximum value column wise and we need index of it to map it to phoneme / class\n"
   ]
  },
  {
   "cell_type": "code",
   "execution_count": 131,
   "metadata": {},
   "outputs": [
    {
     "data": {
      "text/html": [
       "<div>\n",
       "<style scoped>\n",
       "    .dataframe tbody tr th:only-of-type {\n",
       "        vertical-align: middle;\n",
       "    }\n",
       "\n",
       "    .dataframe tbody tr th {\n",
       "        vertical-align: top;\n",
       "    }\n",
       "\n",
       "    .dataframe thead th {\n",
       "        text-align: right;\n",
       "    }\n",
       "</style>\n",
       "<table border=\"1\" class=\"dataframe\">\n",
       "  <thead>\n",
       "    <tr style=\"text-align: right;\">\n",
       "      <th></th>\n",
       "      <th>features</th>\n",
       "      <th>id</th>\n",
       "      <th>labels_encoded</th>\n",
       "      <th>predicted_labels</th>\n",
       "    </tr>\n",
       "  </thead>\n",
       "  <tbody>\n",
       "    <tr>\n",
       "      <th>0</th>\n",
       "      <td>[-28.793968479583107, -7.235995189647053, -17....</td>\n",
       "      <td>0</td>\n",
       "      <td>31</td>\n",
       "      <td>24</td>\n",
       "    </tr>\n",
       "    <tr>\n",
       "      <th>1</th>\n",
       "      <td>[-29.100147784801266, -1.415760313018417, -9.1...</td>\n",
       "      <td>0</td>\n",
       "      <td>31</td>\n",
       "      <td>29</td>\n",
       "    </tr>\n",
       "    <tr>\n",
       "      <th>2</th>\n",
       "      <td>[-29.16215067859266, -1.1869861989825121, -10....</td>\n",
       "      <td>0</td>\n",
       "      <td>31</td>\n",
       "      <td>29</td>\n",
       "    </tr>\n",
       "    <tr>\n",
       "      <th>3</th>\n",
       "      <td>[-33.7184742721562, -7.154135247067677, -12.26...</td>\n",
       "      <td>0</td>\n",
       "      <td>31</td>\n",
       "      <td>31</td>\n",
       "    </tr>\n",
       "    <tr>\n",
       "      <th>4</th>\n",
       "      <td>[-32.778861447673385, -5.475509247702319, -7.9...</td>\n",
       "      <td>0</td>\n",
       "      <td>31</td>\n",
       "      <td>31</td>\n",
       "    </tr>\n",
       "  </tbody>\n",
       "</table>\n",
       "</div>"
      ],
      "text/plain": [
       "                                            features  id  labels_encoded  \\\n",
       "0  [-28.793968479583107, -7.235995189647053, -17....   0              31   \n",
       "1  [-29.100147784801266, -1.415760313018417, -9.1...   0              31   \n",
       "2  [-29.16215067859266, -1.1869861989825121, -10....   0              31   \n",
       "3  [-33.7184742721562, -7.154135247067677, -12.26...   0              31   \n",
       "4  [-32.778861447673385, -5.475509247702319, -7.9...   0              31   \n",
       "\n",
       "   predicted_labels  \n",
       "0                24  \n",
       "1                29  \n",
       "2                29  \n",
       "3                31  \n",
       "4                31  "
      ]
     },
     "execution_count": 131,
     "metadata": {},
     "output_type": "execute_result"
    }
   ],
   "source": [
    "df_mfcc_pre_wo['predicted_labels'] = max_list    \n",
    "        \n",
    "df_mfcc_pre_wo.head()"
   ]
  },
  {
   "cell_type": "code",
   "execution_count": 132,
   "metadata": {},
   "outputs": [],
   "source": [
    "# writing labels to file2 : which is predicted labels sentence wise\n",
    "\n",
    "for i in range(0,1680):\n",
    "    df_temp = df_mfcc_pre_wo[ df_mfcc_pre_wo['id'] == i]\n",
    "    df_temp = df_temp['predicted_labels']\n",
    "\n",
    "    listt = df_temp.values.tolist()\n",
    "    #print(l)\n",
    "    #l = df_temp.tolist()\n",
    "    #print(l)\n",
    "    #np.savetxt(r'hello2.txt' , delimiter=' ' , X = np.asarray(l))\n",
    "\n",
    "    #df_temp.to_csv(r'hello.txt',index = None, header = None, sep = ' ', mode = 'a')\n",
    "\n",
    "    f = open('./files_for_PER/predicted_labels_mfcc_without_64.txt' , 'a')\n",
    "    \n",
    "    for val in listt:\n",
    "        \n",
    "        f.write(str(val))\n",
    "        f.write(' ')\n",
    "        \n",
    "    f.write('\\n')\n",
    "    f.close()"
   ]
  },
  {
   "cell_type": "code",
   "execution_count": null,
   "metadata": {},
   "outputs": [],
   "source": []
  },
  {
   "cell_type": "code",
   "execution_count": null,
   "metadata": {},
   "outputs": [],
   "source": []
  }
 ],
 "metadata": {
  "kernelspec": {
   "display_name": "Python 3",
   "language": "python",
   "name": "python3"
  },
  "language_info": {
   "codemirror_mode": {
    "name": "ipython",
    "version": 3
   },
   "file_extension": ".py",
   "mimetype": "text/x-python",
   "name": "python",
   "nbconvert_exporter": "python",
   "pygments_lexer": "ipython3",
   "version": "3.6.4"
  }
 },
 "nbformat": 4,
 "nbformat_minor": 2
}
